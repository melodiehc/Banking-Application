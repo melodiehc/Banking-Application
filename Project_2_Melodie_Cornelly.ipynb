{
  "nbformat": 4,
  "nbformat_minor": 0,
  "metadata": {
    "colab": {
      "provenance": [],
      "authorship_tag": "ABX9TyO47mJM0bibDbM+L8VxZ28U",
      "include_colab_link": true
    },
    "kernelspec": {
      "name": "python3",
      "display_name": "Python 3"
    },
    "language_info": {
      "name": "python"
    }
  },
  "cells": [
    {
      "cell_type": "markdown",
      "metadata": {
        "id": "view-in-github",
        "colab_type": "text"
      },
      "source": [
        "<a href=\"https://colab.research.google.com/github/melodiehc/Banking-Application/blob/main/Project_2_Melodie_Cornelly.ipynb\" target=\"_parent\"><img src=\"https://colab.research.google.com/assets/colab-badge.svg\" alt=\"Open In Colab\"/></a>"
      ]
    },
    {
      "cell_type": "code",
      "execution_count": null,
      "metadata": {
        "id": "2Ru8pQ-GQFW3"
      },
      "outputs": [],
      "source": [
        "#Melodie Cornelly\n",
        "#Project 2\n",
        "\n",
        "import numpy as np\n",
        "import pandas as pd\n",
        "from sklearn import preprocessing\n",
        "from sklearn import preprocessing\n",
        "from sklearn import metrics\n",
        "from sklearn.model_selection import train_test_split\n",
        "import matplotlib.pyplot as plt\n",
        "import seaborn as sns\n",
        "import ipywidgets as widgets\n",
        "from IPython.display import clear_output\n",
        "\n",
        "from sklearn.linear_model import LogisticRegression\n",
        "from sklearn.naive_bayes import GaussianNB\n",
        "from sklearn.neighbors import KNeighborsClassifier\n",
        "from sklearn.tree import DecisionTreeClassifier\n",
        "from sklearn.ensemble import RandomForestClassifier\n",
        "from sklearn.metrics import confusion_matrix\n",
        "from sklearn.metrics import precision_score\n",
        "from sklearn.metrics import roc_auc_score\n",
        "from sklearn.metrics import roc_curve\n",
        "import xgboost as xgb\n",
        "\n",
        "import warnings\n",
        "warnings.filterwarnings(\"ignore\")\n"
      ]
    },
    {
      "cell_type": "code",
      "source": [
        "#Load the file\n",
        "\n",
        "def load_file():\n",
        "    from google.colab import drive\n",
        "    drive.mount('/content/drive')\n",
        "    file_name = '/content/drive/My Drive/Pace/Project 2 - Melodie Cornelly.ipynb'\n",
        "\n",
        "    data = pd.read_csv(file_name, sep = ',')\n",
        "    data = data.dropna()\n",
        "    df = pd.DataFrame(data)\n",
        "    return df\n",
        "\n",
        "    #x = load_file()\n",
        "    #x.head()\n"
      ],
      "metadata": {
        "id": "IFaw24KsR8tR"
      },
      "execution_count": null,
      "outputs": []
    },
    {
      "cell_type": "code",
      "source": [
        "#return the columns we are interested in\n",
        "\n",
        "def get_columns():\n",
        "    cols = ['age', 'job','marital','education','default','housing','loan','contact','month','day_of_week','campaign','pdays','previous','poutcome','emp.var.rate','cons.price.idx','cons.conf.idx','euribor3m','nr.employed']\n",
        "    return cols"
      ],
      "metadata": {
        "id": "MOKRJWLjSst7"
      },
      "execution_count": null,
      "outputs": []
    },
    {
      "cell_type": "code",
      "source": [
        "#Convert strings to numeric\n",
        "def convert_to_numeric(df):\n",
        "    df.job[df.job == 'unknown'] = 0\n",
        "    df.job[df.job == 'unemplyed'] = 1\n",
        "    df.job[df.job == 'retired'] = 2\n",
        "    df.job[df.job == 'student'] = 3\n",
        "    df.job[df.job == 'housemaid'] = 4\n",
        "    df.job[df.job == 'blue-collar'] = 5\n",
        "    df.job[df.job == 'self-employed'] = 6\n",
        "    df.job[df.job == 'services'] = 7\n",
        "    df.job[df.job == 'technician'] = 8\n",
        "    df.job[df.job == 'entrepreneur '] = 9\n",
        "    df.job[df.job == 'admin'] = 10\n",
        "    df.job[df.job == 'management'] = 11\n",
        "    df.job = df.job.astype(int)\n",
        "\n",
        "    df.marital[df.marital == 'unknown'] = 0\n",
        "    df.marital[df.marital == 'married'] = 1\n",
        "    df.marital[df.marital == 'single'] = 2\n",
        "    df.marital = df.marital.astype(int)\n",
        "\n",
        "    df.education[df.education == 'unknown'] = 0\n",
        "    df.education[df.education == 'illiterate'] = 1\n",
        "    df.education[df.education == 'basic.4y'] = 2\n",
        "    df.education[df.education == 'basic.6y'] = 2\n",
        "    df.education[df.education == 'basic.9y'] = 2\n",
        "    df.education[df.education == 'high.school'] = 3\n",
        "    df.education[df.education == 'professional.course'] = 4\n",
        "    df.education[df.education == 'university.degree'] = 5\n",
        "    df.education = df.education.astype(int)\n",
        "\n",
        "    df.default[df.default == 'no'] = 0\n",
        "    df.default[df.default == 'yes'] = 1\n",
        "    df.default = df.default.astype(int)\n",
        "\n",
        "    df.housing[df.housing == 'unknown'] = 0\n",
        "    df.housing[df.housing == 'no'] = 0\n",
        "    df.housing[df.housing == 'yes'] = 1\n",
        "    df.housing = df.housing.astype(int)\n",
        "\n",
        "    df.loan[df.loan == 'unknown'] = 0\n",
        "    df.loan[df.loan == 'no'] = 1\n",
        "    df.loan[df.loan == 'yes'] = 2\n",
        "    df.loan = df.loan.astype(int)\n",
        "\n",
        "\n",
        "    df.contact[df.contact == 'cellular'] = 1\n",
        "    df.contact[df.contact == 'telephone'] = 2\n",
        "    df.contact = df.contact.astype(int)\n",
        "\n",
        "    df.month[df.month == 'jan'] = 1\n",
        "    df.month[df.month == 'feb'] = 2\n",
        "    df.month[df.month == 'mar'] = 2\n",
        "    df.month[df.month == 'apr'] = 2\n",
        "    df.month[df.month == 'may'] = 2\n",
        "    df.month[df.month == 'jun'] = 2\n",
        "    df.month[df.month == 'jul'] = 2\n",
        "    df.month[df.month == 'aug'] = 2\n",
        "    df.month[df.month == 'sep'] = 2\n",
        "    df.month[df.month == 'oct'] = 2\n",
        "    df.month[df.month == 'nov'] = 2\n",
        "    df.month[df.month == 'dec'] = 2\n",
        "    df.month = df.month.astype(int)\n",
        "\n",
        "    df.day_of_week[df.day_of_week == 'sun'] = 1\n",
        "    df.day_of_week[df.day_of_week == 'mon'] = 2\n",
        "    df.day_of_week[df.day_of_week == 'tue'] = 3\n",
        "    df.day_of_week[df.day_of_week == 'wed'] = 4\n",
        "    df.day_of_week[df.day_of_week == 'thu'] = 5\n",
        "    df.day_of_week[df.day_of_week == 'fri'] = 6\n",
        "    df.day_of_week[df.day_of_week == 'sat'] = 7\n",
        "    df.day_of_week = df.day_of_week.astype(int)\n",
        "\n",
        "    df.poutcome[df.poutcome == 'nonexistent'] = 0\n",
        "    df.poutcome[df.poutcome == 'failure'] = 1\n",
        "    df.poutcome[df.poutcome == 'success'] = 2\n",
        "    df.poutcome = df.poutcome.astype(int)\n",
        "\n",
        "    df.y[df.y == 'no'] = 0\n",
        "    df.y[df.y == 'yes'] = 1\n",
        "    df.y = df.y.astype(int)\n",
        "\n",
        "\n",
        "    return df\n",
        "\n"
      ],
      "metadata": {
        "id": "QpboxwA1TnNr"
      },
      "execution_count": null,
      "outputs": []
    },
    {
      "cell_type": "code",
      "source": [
        "#Normalize the data\n",
        "def normalize(df):\n",
        "    np_array = df.values #return a numpy array\n",
        "    min_max_scalar = preprocessing.MinMaxScaler()\n",
        "    x_scaled = min_max_scaler.fit_transform(np_array)\n",
        "    df = pd.DataFrame(x_scaled, columns=df.columns)\n",
        "    return df"
      ],
      "metadata": {
        "id": "Ud9wqSzHYd7Q"
      },
      "execution_count": null,
      "outputs": []
    },
    {
      "cell_type": "code",
      "source": [
        "#Draw a bar chart\n",
        "def bar_chart(stacked, x, y, title, xlabel, ylabel, comment):\n",
        "    plt.rcParams[\"figure.figsize\"] = (20,10)\n",
        "    if (stacked):\n",
        "        table = pd.crosstab(x, y)\n",
        "        table.div(table.sum(1).astype(float), axis = 0).plot(kind = 'bar', stacked = True)\n",
        "    else:\n",
        "        pd.crosstab(x,y).plot(kind = 'bar')\n",
        "    plt.title(title)\n",
        "    plt.xlabel(xlabel)\n",
        "    plt.ylabel(ylabel)\n",
        "    #plt.show()\n",
        "    print(comment)\n",
        "    return\n",
        "\n",
        "\n"
      ],
      "metadata": {
        "id": "cjiBV-NcZAbC"
      },
      "execution_count": null,
      "outputs": []
    },
    {
      "cell_type": "code",
      "source": [
        "#Draw a histogram chart\n",
        "def histogram_chart(x, title, xlabel, ylabel, comment):\n",
        "    plt.rcParams['figure.figsize'] = (20,10)\n",
        "    x.hist()\n",
        "    plt.title(title)\n",
        "    plt.xlabel(xlabel)\n",
        "    plt.ylabel(ylabel)\n",
        "    #plt.show()\n",
        "    print(comment)\n",
        "    return"
      ],
      "metadata": {
        "id": "kwMOEjRhZ0Gy"
      },
      "execution_count": null,
      "outputs": []
    },
    {
      "cell_type": "code",
      "source": [
        "#Draw a box plot\n",
        "def box_plot():\n",
        "    fig, ax=plt.subplots(figsize=(20,10))\n",
        "    sns.boxplot(data=df)\n",
        "    return"
      ],
      "metadata": {
        "id": "suFp2q8BLMfx"
      },
      "execution_count": null,
      "outputs": []
    },
    {
      "cell_type": "code",
      "source": [
        "#Draw a heat map\n",
        "def heat_map(df):\n",
        "    # Create a figure and axis\n",
        "    fig, ax = plt.subplots(figsize=(20, 10))\n",
        "\n",
        "    # Create a heatmap of the correlation matrix\n",
        "    sns.heatmap(df.corr(), annot=True, vmin=-1, linewidths=0.8, square=True, cmap='Blues', ax=ax)\n",
        "\n",
        "    # Show the plot\n",
        "    #plt.show()\n",
        "\n",
        "    return\n"
      ],
      "metadata": {
        "id": "GuyQ5HwrZ8zd"
      },
      "execution_count": null,
      "outputs": []
    },
    {
      "cell_type": "code",
      "source": [
        "#draws different ML models\n",
        "\n",
        "def ml_model(lr, nb, knn, dt, rf, xg, hm, bp):\n",
        "    if(lr == True):\n",
        "        m_lr = LogisticRegression()\n",
        "        m_lr.fit(X_train, y_train)\n",
        "        m_lr_pred = m_lr.predict(X_test)\n",
        "        m_lr_score = m_lr.predict_proba(X_test)[::,1]\n",
        "        m_lr_fpr, m_lr_tpr, m_lr_thresholds = roc_curve(y_test, m_lr_score)\n",
        "        m_lr_auc = metrics.roc_auc_score(y_test, m_lr_score)\n",
        "        plt.plot(m_lr_fpr, m_lr_tpr, label = \"Logistic Regression\")\n",
        "        print(\"Logistic Regression: Accuracy:\", round(metrics.accuracy_score(y_test,m_lr_pred), 3),\n",
        "              \"Precision:\", round(metrics.precision_score(y_test,m_lr_pred), 3),\n",
        "              \"Recall:\",round(metrics.recall_score(y_test,m_lr_pred),3))\n",
        "\n",
        "\n",
        "    if(nb == True):\n",
        "        m_nb = GaussianNB()\n",
        "        m_nb.fit(X_train, y_train)\n",
        "        m_nb_pred = m_nb.predict(X_test)\n",
        "        m_nb_score = m_nb.predict_proba(X_test)[::,1]\n",
        "        m_nb_fpr, m_nb_tpr, m_nb_thresholds = roc_curve(y_test, m_nb_score)\n",
        "        m_nb_auc = metrics.roc_auc_score(y_test, m_nb_score)\n",
        "        plt.plot(m_nb_fpr, m_nb_tpr, label = \"Naive Bayes\")\n",
        "        print(\"Naive Bayes: Accuracy:\", round(metrics.accuracy_score(y_test,m_nb_pred), 3),\n",
        "              \"Precision:\", round(metrics.precision_score(y_test,m_nb_pred), 3),\n",
        "              \"Recall:\",round(metrics.recall_score(y_test,m_nb_pred),3))\n",
        "    if (knn == True):\n",
        "        m_knn = KNeighborsClassifier()\n",
        "        m_knn.fit(X_train, y_train)\n",
        "        m_knn_pred = m_knn.predict(X_test)\n",
        "        m_knn_score = m_knn.predict_proba(X_test)[::,1]\n",
        "        m_knn_fpr, m_knn_tpr, m_knn_thresholds = roc_curve(y_test, m_knn_score)\n",
        "        m_knn_auc = metrics.roc_auc_score(y_test, m_knn_score)\n",
        "        plt.plot(m_knn_fpr, m_knn_tpr, label = \"K-Nearest Neighbors\")\n",
        "        print(\"K-Nearest Neighbors: Accuracy:\", round(metrics.accuracy_score(y_test,m_knn_pred), 3),\n",
        "              \"Precision:\", round(metrics.precision_score(y_test,m_knn_pred), 3),\n",
        "              \"Recall:\",round(metrics.recall_score(y_test,m_knn_pred),3))\n",
        "\n",
        "    if (dt == True):\n",
        "        m_dt = DecisionTreeClassifier()\n",
        "        m_dt.fit(X_train, y_train)\n",
        "\n",
        "        m_dt_pred = m_dt.predict(X_test)\n",
        "        m_dt_score = m_dt.predict_proba(X_test)[::,1]\n",
        "        m_dt_fpr, m_dt_tpr, m_dt_thresholds = roc_curve(y_test, m_dt_score)\n",
        "        m_dt_auc = metrics.roc_auc_score(y_test, m_dt_score)\n",
        "        plt.plot(m_dt_fpr, m_dt_tpr, label = \"Decision Tree\")\n",
        "        print(\"Decision Tree: Accuracy:\", round(metrics.accuracy_score(y_test,m_dt_pred), 3),\n",
        "              \"Precision:\", round(metrics.precision_score(y_test,m_dt_pred), 3),\n",
        "              \"Recall:\",round(metrics.recall_score(y_test,m_dt_pred),3))\n",
        "\n",
        "    if (rf == True):\n",
        "        m_rf = RandomForestClassifier(n_estimators=10,random_state=0)\n",
        "        m_rf.fit(X_train, y_train)\n",
        "        m_rf_pred = m_rf.predict(X_test)\n",
        "        m_rf_score = m_rf.predict_proba(X_test)[::,1]\n",
        "        m_rf_fpr, m_rf_tpr, m_rf_thresholds = roc_curve(y_test, m_rf_score)\n",
        "        m_rf_auc = metrics.roc_auc_score(y_test, m_rf_score)\n",
        "        plt.plot(m_rf_fpr, m_rf_tpr, label = \"Random Forest\")\n",
        "        print(\"Random Forest: Accuracy:\", round(metrics.accuracy_score(y_test,m_rf_pred), 3),\n",
        "              \"Precision:\", round(metrics.precision_score(y_test,m_rf_pred), 3),\n",
        "              \"Recall:\",round(metrics.recall_score(y_test,m_rf_pred),3))\n",
        "\n",
        "\n",
        "    if (xg == True):\n",
        "        m_xg = xgb.XGBClassifier()\n",
        "        m_xg.fit(X_train, y_train)\n",
        "        m_xg_pred = m_xg.predict(X_test)\n",
        "        m_xg_score = np.asarray([np.argmax(line) for line in m_xg_pred])\n",
        "        m_xg_fpr, m_xg_tpr, m_xg_thresholds = roc_curve(y_test, m_xg_score)\n",
        "        m_xg_auc = metrics.roc_auc_score(y_test, m_xg_score)\n",
        "        plt.plot(m_xg_fpr, m_xg_tpr, label = \"XGBoost\")\n",
        "        print(\"XGBoost: Accuracy:\", round(metrics.accuracy_score(y_test,m_xg_pred), 3),\n",
        "              \"Precision:\", round(metrics.precision_score(y_test,m_xg_pred), 3),\n",
        "              \"Recall:\",round(metrics.recall_score(y_test,m_xg_pred),3))\n",
        "\n",
        "    if((lr == True) or (nb == True) or (knn == True) or (dt == True) or (rf == True) or (xg == True)):\n",
        "        plt.rcParams[\"figure.figsize\"] = (15,15)\n",
        "        plt.legend(loc=4)\n",
        "        plt.show()\n",
        "        print('')\n",
        "\n",
        "    if(hm == True):\n",
        "        heat_map()\n",
        "\n",
        "    if(bp == True):\n",
        "        box_plot()\n",
        "\n",
        "\n"
      ],
      "metadata": {
        "id": "Lcz8JxSAbZuh"
      },
      "execution_count": null,
      "outputs": []
    },
    {
      "cell_type": "code",
      "source": [
        "#Load the data\n",
        "df = load_file()\n",
        "print(df.info())\n",
        "df.describe()"
      ],
      "metadata": {
        "id": "7QeLFC1g1aa5"
      },
      "execution_count": null,
      "outputs": []
    },
    {
      "cell_type": "code",
      "source": [
        "#Lets look at the data\n",
        "\n",
        "wid1_data = widgets.Dropdown(options = ['Select','Purchase Frequency for Job Title', 'Martial Status vs Purchase', 'Education vs Purchase', 'Day of Week vs Purchase', 'Month vs Purchase','Purchase Frequency for Poutcome', 'Histogram of Age','Heatmap'], value='Select',description ='Plot:', disabled=False, layout = {'width': 'max-content'})\n",
        "wid1_show = widgets.Dropdown(options=['Clear','Save'], value = 'Clear', description = 'History:', disabled = False, layout = {'width': 'max-content'})\n",
        "btn1_go = widgets.Button(description='Go')\n",
        "\n",
        "def show_controls1():\n",
        "    display(wid1_data)\n",
        "    display(wid1_show)\n",
        "    display(btn1_go)\n",
        "\n",
        "show_controls1()\n",
        "\n",
        "def btn1_eventhandler(obj):\n",
        "    if(wid1_show.value == 'Clear'):\n",
        "        clear_output(wait=True)\n",
        "        #print('Clear')\n",
        "        show_controls1()\n",
        "    if(wid1_data.value == 'Select'):\n",
        "        print('')\n",
        "    elif(wid1_data.value == 'Purchase Frequency for Job Title'):\n",
        "        bar_chart(False, df.job, df.y, 'Purchase Frequency for Job Title', 'Job', 'Frequency of Purchase', 'The frequency of purchase of the deposit depends a great deal on the job title. \\nTherefore, the job title can be a good predictor of the outcome vartiable:')\n",
        "    elif(wid1_data.value == 'Martial Status vs Purchase'):\n",
        "        bar_chart(True, df.marital, df.y, 'Marital Status vs Purchase', 'Marital Status', 'Proportion of Customers','Education seems a good predictor of the outcome variable:')\n",
        "    elif(wid1_data.value == 'Education vs Purchase'):\n",
        "        bar_chart(True, df.education, df.y, 'Education vs Purchase', 'Education', 'Proportion of Customers','The education level seems a good predictor of the outcome variable:')\n",
        "    elif(wid1_data.value == 'Day of Week vs Purchase'):\n",
        "        bar_chart(False, df.day_of_week, df.y, 'Day of Week vs Purchase', 'Day of Week', 'Frequency of Purchase','Day of week may not be a good predictor of the outcome:')\n",
        "    elif(wid1_data.value == 'Month vs Purchase'):\n",
        "        bar_chart(False, df.month, df.y, 'Month vs Purchase', 'Month', 'Frequecny of Purchase','Month may not be a good predictor of the outcome:')\n",
        "    elif(wid1_data.value == 'Purchase Frequency for Poutcome'):\n",
        "        bar_chart(False, df.poutcome, df.y, 'Purchase Frequency for Poutcome', 'Poutcome', 'Frequency of Purchase','Poutcome seems a good predictor of the outcome variable:')\n",
        "    elif(wid1_data.value == 'Histogram of Age'):\n",
        "        histogram_chart(df.age, 'Histogram of Age', 'Age', 'Frequency', 'Most of the customers of the bank are in the age range of 30-40:')\n",
        "    elif(wid1_data.value == 'Heatmap'):\n",
        "        heat_map()\n",
        "\n",
        "btn1_go.on_click(btn1_eventhandler)"
      ],
      "metadata": {
        "id": "0P1NLyuC1tky"
      },
      "execution_count": null,
      "outputs": []
    },
    {
      "cell_type": "code",
      "source": [
        "#Next lets convert the strings to numbers\n",
        "df = convert_to_numeric(df)\n",
        "print (df.info())\n",
        "df.describe()"
      ],
      "metadata": {
        "id": "vf_vO8xe-EqX"
      },
      "execution_count": null,
      "outputs": []
    },
    {
      "cell_type": "code",
      "source": [
        "#Before we normalized\n",
        "box_plot()"
      ],
      "metadata": {
        "id": "Vh34LsOI-uo_"
      },
      "execution_count": null,
      "outputs": []
    },
    {
      "cell_type": "code",
      "source": [
        "#Normalize the data\n",
        "df = normalize(df)\n",
        "print(df.info())\n",
        "df.describe()"
      ],
      "metadata": {
        "id": "NY6s_GDL_BCh"
      },
      "execution_count": null,
      "outputs": []
    },
    {
      "cell_type": "code",
      "source": [
        "#After we normalize\n",
        "box_plot()"
      ],
      "metadata": {
        "id": "Z233S_3g_O55"
      },
      "execution_count": null,
      "outputs": []
    },
    {
      "cell_type": "code",
      "source": [
        "heat_map()"
      ],
      "metadata": {
        "id": "zbIpRaZF_UyR"
      },
      "execution_count": null,
      "outputs": []
    },
    {
      "cell_type": "code",
      "source": [
        "#Split data into training and training sets\n",
        "fc = get_columns()\n",
        "X_train, X_test, y_train, y_test = train_test_split(df[fc], df.y, test_size = 0.3, random_state=0)\n"
      ],
      "metadata": {
        "id": "u2w1-Jxr_Zih"
      },
      "execution_count": null,
      "outputs": []
    },
    {
      "cell_type": "code",
      "source": [
        "#lets look at the data\n",
        "cb_lr = widgets.Checkbox(value=True, description='Logistic Regrression',disabled=False,indent=False)\n",
        "cb_nb = widgets.Checkbox(value=True, description='Naive Bayes',disabled=False, indent=False)\n",
        "cb_knn = widgets.Checkbox(value=True, description='K-Nearest Neighbors',disabled=False, indent=False)\n",
        "cb_dt = widgets.Checkbox(value=True, description='Decision Tree',disabled=False, indent=False)\n",
        "cb_rf = widgets.Checkbox(value=True, description='Random Forest',disabled=False, indent=False)\n",
        "cb_xgb = widgets.Checkbox(value=True, description='XGBoost',disabled=False, indent=False)\n",
        "cb_hm = widgets.Checkbox(value=True, description='Heat Map',disabled=False, indent=False)\n",
        "cb_bp = widgets.Checkbox(value=True, description='Box Plot',disabled=False, indent=False)\n",
        "btn2_go = widgets.Button(description='Go')\n",
        "\n",
        "def show_controls2():\n",
        "    display(cb_lr)\n",
        "    display(cb_nb)\n",
        "    display(cb_knn)\n",
        "    display(cb_dt)\n",
        "    display(cb_rf)\n",
        "    display(cb_xgb)\n",
        "    display(cb_hm)\n",
        "    display(cb_bp)\n",
        "    display(btn2_go)\n",
        "\n",
        "show_controls2()\n",
        "\n",
        "def btn2_eventhandler(obj):\n",
        "    clear_output(wait=True)\n",
        "    ml_model(cb_lr.value, cb_nb.value, cb_knn.value, cb_dt.value, cb_rf.value, cb_xgb.value, cb_hm.value, cb_bp.value)\n",
        "\n",
        "btn2_go.on_click(btn2_eventhandler )\n",
        "\n"
      ],
      "metadata": {
        "id": "MnenWXfO_8ey"
      },
      "execution_count": null,
      "outputs": []
    }
  ]
}